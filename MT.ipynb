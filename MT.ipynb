{
 "cells": [
  {
   "cell_type": "code",
   "execution_count": 1,
   "metadata": {},
   "outputs": [],
   "source": [
    "import pandas as pd\n",
    "import numpy as np                          \n",
    "import matplotlib.pyplot as plt\n",
    "from matplotlib.colors import ListedColormap\n",
    "import matplotlib.pyplot as plt\n",
    "from sklearn import datasets\n",
    "from sklearn.svm import SVC\n",
    "from sklearn.model_selection import train_test_split\n",
    "from sklearn.preprocessing import StandardScaler"
   ]
  },
  {
   "cell_type": "code",
   "execution_count": 2,
   "metadata": {},
   "outputs": [
    {
     "data": {
      "text/html": [
       "<div>\n",
       "<style scoped>\n",
       "    .dataframe tbody tr th:only-of-type {\n",
       "        vertical-align: middle;\n",
       "    }\n",
       "\n",
       "    .dataframe tbody tr th {\n",
       "        vertical-align: top;\n",
       "    }\n",
       "\n",
       "    .dataframe thead th {\n",
       "        text-align: right;\n",
       "    }\n",
       "</style>\n",
       "<table border=\"1\" class=\"dataframe\">\n",
       "  <thead>\n",
       "    <tr style=\"text-align: right;\">\n",
       "      <th></th>\n",
       "      <th>Gender</th>\n",
       "      <th>Age</th>\n",
       "      <th>Your Feeling</th>\n",
       "      <th>Failure</th>\n",
       "      <th>Happy</th>\n",
       "      <th>Irritated</th>\n",
       "      <th>Sleep</th>\n",
       "      <th>Suicide</th>\n",
       "      <th>Medication</th>\n",
       "      <th>Think</th>\n",
       "      <th>Appertite</th>\n",
       "      <th>Decision</th>\n",
       "    </tr>\n",
       "  </thead>\n",
       "  <tbody>\n",
       "    <tr>\n",
       "      <th>0</th>\n",
       "      <td>2</td>\n",
       "      <td>18</td>\n",
       "      <td>5</td>\n",
       "      <td>1</td>\n",
       "      <td>2</td>\n",
       "      <td>2</td>\n",
       "      <td>3</td>\n",
       "      <td>3</td>\n",
       "      <td>1</td>\n",
       "      <td>1</td>\n",
       "      <td>1</td>\n",
       "      <td>2</td>\n",
       "    </tr>\n",
       "    <tr>\n",
       "      <th>1</th>\n",
       "      <td>2</td>\n",
       "      <td>18</td>\n",
       "      <td>5</td>\n",
       "      <td>2</td>\n",
       "      <td>3</td>\n",
       "      <td>2</td>\n",
       "      <td>2</td>\n",
       "      <td>2</td>\n",
       "      <td>2</td>\n",
       "      <td>1</td>\n",
       "      <td>2</td>\n",
       "      <td>3</td>\n",
       "    </tr>\n",
       "    <tr>\n",
       "      <th>2</th>\n",
       "      <td>1</td>\n",
       "      <td>18</td>\n",
       "      <td>1</td>\n",
       "      <td>2</td>\n",
       "      <td>2</td>\n",
       "      <td>1</td>\n",
       "      <td>2</td>\n",
       "      <td>2</td>\n",
       "      <td>3</td>\n",
       "      <td>2</td>\n",
       "      <td>3</td>\n",
       "      <td>2</td>\n",
       "    </tr>\n",
       "    <tr>\n",
       "      <th>3</th>\n",
       "      <td>1</td>\n",
       "      <td>19</td>\n",
       "      <td>5</td>\n",
       "      <td>1</td>\n",
       "      <td>2</td>\n",
       "      <td>1</td>\n",
       "      <td>2</td>\n",
       "      <td>3</td>\n",
       "      <td>3</td>\n",
       "      <td>2</td>\n",
       "      <td>2</td>\n",
       "      <td>3</td>\n",
       "    </tr>\n",
       "    <tr>\n",
       "      <th>4</th>\n",
       "      <td>2</td>\n",
       "      <td>20</td>\n",
       "      <td>5</td>\n",
       "      <td>1</td>\n",
       "      <td>2</td>\n",
       "      <td>2</td>\n",
       "      <td>3</td>\n",
       "      <td>3</td>\n",
       "      <td>3</td>\n",
       "      <td>1</td>\n",
       "      <td>1</td>\n",
       "      <td>2</td>\n",
       "    </tr>\n",
       "  </tbody>\n",
       "</table>\n",
       "</div>"
      ],
      "text/plain": [
       "   Gender  Age  Your Feeling  Failure  Happy  Irritated  Sleep  Suicide  \\\n",
       "0       2   18             5        1      2          2      3        3   \n",
       "1       2   18             5        2      3          2      2        2   \n",
       "2       1   18             1        2      2          1      2        2   \n",
       "3       1   19             5        1      2          1      2        3   \n",
       "4       2   20             5        1      2          2      3        3   \n",
       "\n",
       "   Medication  Think  Appertite  Decision  \n",
       "0           1      1          1         2  \n",
       "1           2      1          2         3  \n",
       "2           3      2          3         2  \n",
       "3           3      2          2         3  \n",
       "4           3      1          1         2  "
      ]
     },
     "execution_count": 2,
     "metadata": {},
     "output_type": "execute_result"
    }
   ],
   "source": [
    "cell_df = pd.read_csv(\"mtn.csv\")\n",
    "cell_df.head()"
   ]
  },
  {
   "cell_type": "code",
   "execution_count": 3,
   "metadata": {},
   "outputs": [
    {
     "data": {
      "text/plain": [
       "(928, 12)"
      ]
     },
     "execution_count": 3,
     "metadata": {},
     "output_type": "execute_result"
    }
   ],
   "source": [
    "cell_df.shape"
   ]
  },
  {
   "cell_type": "code",
   "execution_count": 4,
   "metadata": {},
   "outputs": [
    {
     "data": {
      "text/plain": [
       "11136"
      ]
     },
     "execution_count": 4,
     "metadata": {},
     "output_type": "execute_result"
    }
   ],
   "source": [
    "cell_df.size"
   ]
  },
  {
   "cell_type": "code",
   "execution_count": 25,
   "metadata": {},
   "outputs": [
    {
     "data": {
      "text/plain": [
       "8    320\n",
       "5    192\n",
       "1    160\n",
       "4     96\n",
       "2     64\n",
       "7     32\n",
       "6     32\n",
       "3     32\n",
       "Name: Your Feeling, dtype: int64"
      ]
     },
     "execution_count": 25,
     "metadata": {},
     "output_type": "execute_result"
    }
   ],
   "source": [
    "cell_df['Your Feeling'].value_counts()"
   ]
  },
  {
   "cell_type": "code",
   "execution_count": 37,
   "metadata": {},
   "outputs": [
    {
     "data": {
      "image/png": "[encoded data removed]",
      "text/plain": [
       "<Figure size 432x288 with 1 Axes>"
      ]
     },
     "metadata": {
      "needs_background": "light"
     },
     "output_type": "display_data"
    }
   ],
   "source": [
    "age_df = cell_df[cell_df['Age'] ==18]\n",
    "age1_df = cell_df[cell_df['Age'] ==19]\n",
    "age2_df = cell_df[cell_df['Age'] ==20]\n",
    "age3_df = cell_df[cell_df['Age'] ==21]\n",
    "age4_df = cell_df[cell_df['Age'] ==22]\n",
    "age5_df = cell_df[cell_df['Age'] ==23]\n",
    "\n",
    "\n",
    "axes = age_df.plot(kind='scatter', x='Your Feeling', y='Sleep', color='red', label='18')\n",
    "axes = age1_df.plot(kind='scatter', x='Your Feeling', y='Sleep', color='blue', label='19', ax=axes)\n",
    "axes = age2_df.plot(kind='scatter', x='Your Feeling', y='Sleep', color='green', label='20', ax=axes)\n",
    "axes = age3_df.plot(kind='scatter', x='Your Feeling', y='Sleep', color='black', label='21', ax=axes)\n",
    "axes = age4_df.plot(kind='scatter', x='Your Feeling', y='Sleep', color='grey', label='22', ax=axes)\n",
    "axes = age5_df.plot(kind='scatter', x='Your Feeling', y='Sleep', color='pink', label='23', ax=axes)"
   ]
  },
  {
   "cell_type": "code",
   "execution_count": 35,
   "metadata": {},
   "outputs": [
    {
     "data": {
      "image/png": "[encoded data removed]",
      "text/plain": [
       "<Figure size 432x288 with 1 Axes>"
      ]
     },
     "metadata": {
      "needs_background": "light"
     },
     "output_type": "display_data"
    }
   ],
   "source": [
    "age_df = cell_df[cell_df['Age'] ==18]\n",
    "age1_df = cell_df[cell_df['Age'] ==19]\n",
    "age2_df = cell_df[cell_df['Age'] ==20]\n",
    "age3_df = cell_df[cell_df['Age'] ==21]\n",
    "age4_df = cell_df[cell_df['Age'] ==22]\n",
    "age5_df = cell_df[cell_df['Age'] ==23]\n",
    "\n",
    "\n",
    "axes = age_df.plot(kind='scatter', x='Your Feeling', y='Medication', color='red', label='18')\n",
    "axes = age1_df.plot(kind='scatter', x='Your Feeling', y='Medication', color='blue', label='19', ax=axes)\n",
    "axes = age2_df.plot(kind='scatter', x='Your Feeling', y='Medication', color='green', label='20', ax=axes)\n",
    "axes = age3_df.plot(kind='scatter', x='Your Feeling', y='Medication', color='black', label='21', ax=axes)\n",
    "axes = age4_df.plot(kind='scatter', x='Your Feeling', y='Medication', color='grey', label='22', ax=axes)\n",
    "axes = age5_df.plot(kind='scatter', x='Your Feeling', y='Medication', color='pink', label='23', ax=axes)"
   ]
  },
  {
   "cell_type": "code",
   "execution_count": 36,
   "metadata": {},
   "outputs": [
    {
     "data": {
      "image/png": "[encoded data removed]",
      "text/plain": [
       "<Figure size 432x288 with 1 Axes>"
      ]
     },
     "metadata": {
      "needs_background": "light"
     },
     "output_type": "display_data"
    }
   ],
   "source": [
    "age_df = cell_df[cell_df['Age'] ==18]\n",
    "age1_df = cell_df[cell_df['Age'] ==19]\n",
    "age2_df = cell_df[cell_df['Age'] ==20]\n",
    "age3_df = cell_df[cell_df['Age'] ==21]\n",
    "age4_df = cell_df[cell_df['Age'] ==22]\n",
    "age5_df = cell_df[cell_df['Age'] ==23]\n",
    "\n",
    "axes = age_df.plot(kind='scatter', x='Your Feeling', y='Appertite', color='red', label='18')\n",
    "axes = age1_df.plot(kind='scatter', x='Your Feeling', y='Appertite', color='blue', label='19', ax=axes)\n",
    "axes = age2_df.plot(kind='scatter', x='Your Feeling', y='Appertite', color='green', label='20', ax=axes)\n",
    "axes = age3_df.plot(kind='scatter', x='Your Feeling', y='Appertite', color='black', label='21', ax=axes)\n",
    "axes = age4_df.plot(kind='scatter', x='Your Feeling', y='Appertite', color='grey', label='22', ax=axes)\n",
    "axes = age5_df.plot(kind='scatter', x='Your Feeling', y='Appertite', color='pink', label='23', ax=axes)"
   ]
  },
  {
   "cell_type": "code",
   "execution_count": 28,
   "metadata": {},
   "outputs": [
    {
     "data": {
      "text/plain": [
       "Index(['Gender', 'Age', 'Your Feeling', 'Failure', 'Happy', 'Irritated',\n",
       "       'Sleep', 'Suicide', 'Medication', 'Think', 'Appertite', 'Decision'],\n",
       "      dtype='object')"
      ]
     },
     "execution_count": 28,
     "metadata": {},
     "output_type": "execute_result"
    }
   ],
   "source": [
    "cell_df.columns"
   ]
  },
  {
   "cell_type": "code",
   "execution_count": 8,
   "metadata": {},
   "outputs": [],
   "source": [
    "feature_df = cell_df[['Irritated', 'Sleep', 'Suicide', 'Medication', \n",
    "                      'Think', 'Appertite', 'Decision']]"
   ]
  },
  {
   "cell_type": "code",
   "execution_count": 9,
   "metadata": {},
   "outputs": [],
   "source": [
    "#independent var\n",
    "X = np.asarray(feature_df)"
   ]
  },
  {
   "cell_type": "code",
   "execution_count": 10,
   "metadata": {},
   "outputs": [
    {
     "data": {
      "text/plain": [
       "array([[2, 3, 3, 1, 1, 1, 2],\n",
       "       [2, 2, 2, 2, 1, 2, 3],\n",
       "       [1, 2, 2, 3, 2, 3, 2],\n",
       "       [1, 2, 3, 3, 2, 2, 3],\n",
       "       [2, 3, 3, 3, 1, 1, 2]], dtype=int64)"
      ]
     },
     "execution_count": 10,
     "metadata": {},
     "output_type": "execute_result"
    }
   ],
   "source": [
    "X[0:5]"
   ]
  },
  {
   "cell_type": "code",
   "execution_count": 11,
   "metadata": {},
   "outputs": [],
   "source": [
    "#dependent var\n",
    "y = np.asarray(cell_df['Happy'])"
   ]
  },
  {
   "cell_type": "code",
   "execution_count": 12,
   "metadata": {},
   "outputs": [
    {
     "data": {
      "text/plain": [
       "array([2, 3, 2, 2, 2], dtype=int64)"
      ]
     },
     "execution_count": 12,
     "metadata": {},
     "output_type": "execute_result"
    }
   ],
   "source": [
    "y[0:5]"
   ]
  },
  {
   "cell_type": "code",
   "execution_count": 13,
   "metadata": {},
   "outputs": [
    {
     "data": {
      "text/plain": [
       "(185, 7)"
      ]
     },
     "execution_count": 13,
     "metadata": {},
     "output_type": "execute_result"
    }
   ],
   "source": [
    "from sklearn.model_selection import train_test_split\n",
    "X_train, X_test, y_train, y_test = train_test_split(X, y, test_size=0.8, random_state=4)\n",
    "X_train.shape"
   ]
  },
  {
   "cell_type": "code",
   "execution_count": 14,
   "metadata": {},
   "outputs": [
    {
     "data": {
      "text/plain": [
       "(185,)"
      ]
     },
     "execution_count": 14,
     "metadata": {},
     "output_type": "execute_result"
    }
   ],
   "source": [
    "y_train.shape"
   ]
  },
  {
   "cell_type": "code",
   "execution_count": 15,
   "metadata": {},
   "outputs": [
    {
     "data": {
      "text/plain": [
       "(743, 7)"
      ]
     },
     "execution_count": 15,
     "metadata": {},
     "output_type": "execute_result"
    }
   ],
   "source": [
    "X_test.shape"
   ]
  },
  {
   "cell_type": "code",
   "execution_count": 16,
   "metadata": {},
   "outputs": [
    {
     "data": {
      "text/plain": [
       "(743,)"
      ]
     },
     "execution_count": 16,
     "metadata": {},
     "output_type": "execute_result"
    }
   ],
   "source": [
    "y_test.shape"
   ]
  },
  {
   "cell_type": "code",
   "execution_count": 38,
   "metadata": {},
   "outputs": [],
   "source": [
    "from sklearn import svm\n",
    "\n",
    "classifier = svm.SVC(kernel='linear', gamma='auto', C=3)\n",
    "classifier.fit(X_train, y_train)\n",
    "y_predict = classifier.predict(X_test)"
   ]
  },
  {
   "cell_type": "code",
   "execution_count": 39,
   "metadata": {
    "scrolled": false
   },
   "outputs": [
    {
     "name": "stdout",
     "output_type": "stream",
     "text": [
      "              precision    recall  f1-score   support\n",
      "\n",
      "           1       0.46      1.00      0.63        25\n",
      "           2       0.85      0.89      0.87       512\n",
      "           3       0.63      0.47      0.53       206\n",
      "\n",
      "    accuracy                           0.78       743\n",
      "   macro avg       0.65      0.78      0.68       743\n",
      "weighted avg       0.77      0.78      0.77       743\n",
      "\n"
     ]
    }
   ],
   "source": [
    "from sklearn.metrics import classification_report\n",
    "\n",
    "print(classification_report(y_test, y_predict))"
   ]
  },
  {
   "cell_type": "code",
   "execution_count": 40,
   "metadata": {},
   "outputs": [
    {
     "data": {
      "image/png": "[encoded data removed]",
      "text/plain": [
       "<Figure size 432x288 with 2 Axes>"
      ]
     },
     "metadata": {
      "needs_background": "light"
     },
     "output_type": "display_data"
    }
   ],
   "source": [
    "from sklearn.metrics import confusion_matrix\n",
    "from sklearn.metrics import ConfusionMatrixDisplay\n",
    "\n",
    "y_pred = clf.predict(X_test)\n",
    "cm = confusion_matrix(y_test, y_pred)\n",
    "cm_display = ConfusionMatrixDisplay(cm).plot()"
   ]
  },
  {
   "cell_type": "code",
   "execution_count": null,
   "metadata": {},
   "outputs": [],
   "source": []
  }
 ],
 "metadata": {
  "kernelspec": {
   "display_name": "Python 3",
   "language": "python",
   "name": "python3"
  },
  "language_info": {
   "codemirror_mode": {
    "name": "ipython",
    "version": 3
   },
   "file_extension": ".py",
   "mimetype": "text/x-python",
   "name": "python",
   "nbconvert_exporter": "python",
   "pygments_lexer": "ipython3",
   "version": "3.8.4rc1"
  }
 },
 "nbformat": 4,
 "nbformat_minor": 4
}
